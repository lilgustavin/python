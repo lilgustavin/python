{
 "cells": [
  {
   "cell_type": "markdown",
   "metadata": {},
   "source": [
    "programaçao orientada a objeto (classes)"
   ]
  },
  {
   "cell_type": "code",
   "execution_count": null,
   "metadata": {},
   "outputs": [],
   "source": [
    "class Nome:\n",
    "    \n",
    "atributos\n",
    "metodos\n",
    "(objetivos)\n",
    "#todo nome de class começa com letra maiuscula"
   ]
  },
  {
   "cell_type": "code",
   "execution_count": null,
   "metadata": {},
   "outputs": [],
   "source": [
    "class pessoa:\n",
    "    pass\n",
    "#pass comando que diz para ignorar essa linha e ir para a proxima"
   ]
  },
  {
   "cell_type": "code",
   "execution_count": null,
   "metadata": {},
   "outputs": [],
   "source": [
    "class pessoa:\n",
    "    pass\n",
    "pessoa1 = pessoa()\n",
    "#variavel pessoa instancia (control) a class pessoa, incorporando sua estrutura\n",
    "\n",
    "pessoa1.nome = 'gustavo'\n",
    "pessoa1.idade = 17\n",
    "\n",
    "print (pessoa1.nome, pessoa1.idade)"
   ]
  },
  {
   "cell_type": "code",
   "execution_count": 2,
   "metadata": {},
   "outputs": [
    {
     "ename": "IndentationError",
     "evalue": "expected an indented block after function definition on line 2 (3235979408.py, line 5)",
     "output_type": "error",
     "traceback": [
      "\u001b[1;36m  Cell \u001b[1;32mIn [2], line 5\u001b[1;36m\u001b[0m\n\u001b[1;33m    pessoa1 = Pessoa ()\u001b[0m\n\u001b[1;37m    ^\u001b[0m\n\u001b[1;31mIndentationError\u001b[0m\u001b[1;31m:\u001b[0m expected an indented block after function definition on line 2\n"
     ]
    }
   ],
   "source": [
    "class Pessoa:\n",
    "    def açao1(self):\n",
    "    #criar um metodo de classe açao() que realiza uma açao e retorna algum dado e retorna algum dado ou valor dentro da class via sel ==> referencia a propria classe\n",
    "    \n",
    "    pessoa1 = Pessoa ()\n",
    "    pessoa1 = açao1 ()\n",
    "    "
   ]
  },
  {
   "cell_type": "code",
   "execution_count": 6,
   "metadata": {},
   "outputs": [
    {
     "ename": "SyntaxError",
     "evalue": "expected ':' (1839594420.py, line 2)",
     "output_type": "error",
     "traceback": [
      "\u001b[1;36m  Cell \u001b[1;32mIn [6], line 2\u001b[1;36m\u001b[0m\n\u001b[1;33m    def __init__(self, nome, idade, genero, altura)\u001b[0m\n\u001b[1;37m                                                   ^\u001b[0m\n\u001b[1;31mSyntaxError\u001b[0m\u001b[1;31m:\u001b[0m expected ':'\n"
     ]
    }
   ],
   "source": [
    "class pessoa:\n",
    "def __init__(self, nome, idade, genero, altura)\n",
    "self.nome = Nome\n",
    "self.idade = idade\n",
    "self.genero = genero\n",
    "self.altura = altura\n",
    "\n",
    "pessoa1 = pessoa('gustavo', 17, 'M', 1.79)\n",
    "pessoa2 = pessoa('joao', 20, 'M', 1.67)"
   ]
  },
  {
   "cell_type": "code",
   "execution_count": null,
   "metadata": {},
   "outputs": [],
   "source": [
    "class pessoa:\n",
    "    ano_atual = 2022\n",
    "    def __init__(self,nome,idade):\n",
    "        self.nome = nome\n",
    "        self.idade = idade\n",
    "\n",
    "        def ano_nascimento(self):\n",
    "            ano_nasc = self.ano_atual - self.idade\n",
    "            print(f'seu ano de nascimento é {ano_nasc}')\n",
    "            \n",
    "pessoa1 = pessoa('gustavo', 17)\n",
    "pessoa1.ano_nascimento()\n"
   ]
  }
 ],
 "metadata": {
  "interpreter": {
   "hash": "a293f8bec318a73609a1c5060e8139ddc0f1bc05a177ec03fa538731caefc6b1"
  },
  "kernelspec": {
   "display_name": "Python 3.11.0 64-bit",
   "language": "python",
   "name": "python3"
  },
  "language_info": {
   "codemirror_mode": {
    "name": "ipython",
    "version": 3
   },
   "file_extension": ".py",
   "mimetype": "text/x-python",
   "name": "python",
   "nbconvert_exporter": "python",
   "pygments_lexer": "ipython3",
   "version": "3.11.0"
  },
  "orig_nbformat": 4
 },
 "nbformat": 4,
 "nbformat_minor": 2
}
