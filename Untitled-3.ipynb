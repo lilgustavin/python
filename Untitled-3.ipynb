{
 "cells": [
  {
   "cell_type": "markdown",
   "metadata": {},
   "source": [
    "tupla"
   ]
  },
  {
   "cell_type": "code",
   "execution_count": 2,
   "metadata": {},
   "outputs": [
    {
     "name": "stdout",
     "output_type": "stream",
     "text": [
      "('zero', 'um', 'dois', 'quatro', 'cinco', 'seis', 'sete', 'oito', 'nove')\n",
      "zero\n",
      "2\n",
      "1\n",
      "9\n",
      "dois\n"
     ]
    }
   ],
   "source": [
    "numeros = ('zero' , 'um' , 'dois' , 'quatro' , 'cinco' , 'seis' , 'sete' , 'oito' , 'nove')\n",
    "print(numeros)\n",
    "print(numeros[0])\n",
    "print(numeros.index('dois'))\n",
    "print(numeros.count('dois'))\n",
    "print(len(numeros))\n",
    "\n",
    "dez = ('dez' , 'onze' , 'doze' , 'treze' , 'quatorze' , 'quinze' , 'dezesseis' , 'dezessete' , 'dezoito' , 'dezenove')\n",
    "dezenas = '', '', 'vinte','trinta','quarenta','cinquenta','sessenta','setenta','oitenta','noventa'\n",
    "\n",
    "indice = int(input('Digite um numero entre 0 e 19: '))\n",
    "if indice < 10:\n",
    "    extenso = numeros[indice]\n",
    "elif indice < 20:\n",
    "    extenso = dez[indice-10]\n",
    "elif indice <= 99:\n",
    "    dezena = int(indice / 10)\n",
    "    numeral = indice % 10\n",
    "    extenso = dezenas[dezena] + ' e ' + numeros[numeral]\n",
    "print(extenso)"
   ]
  }
 ],
 "metadata": {
  "interpreter": {
   "hash": "a293f8bec318a73609a1c5060e8139ddc0f1bc05a177ec03fa538731caefc6b1"
  },
  "kernelspec": {
   "display_name": "Python 3.11.0 64-bit",
   "language": "python",
   "name": "python3"
  },
  "language_info": {
   "codemirror_mode": {
    "name": "ipython",
    "version": 3
   },
   "file_extension": ".py",
   "mimetype": "text/x-python",
   "name": "python",
   "nbconvert_exporter": "python",
   "pygments_lexer": "ipython3",
   "version": "3.11.0"
  },
  "orig_nbformat": 4
 },
 "nbformat": 4,
 "nbformat_minor": 2
}
